{
 "cells": [
  {
   "cell_type": "markdown",
   "metadata": {},
   "source": [
    "Курсовая работа - основы языка программирования Python"
   ]
  },
  {
   "cell_type": "code",
   "execution_count": null,
   "metadata": {},
   "outputs": [],
   "source": [
    "# Проверка работы VK TOKEN\n",
    "import requests\n",
    "\n",
    "class VK:\n",
    "\n",
    "   def __init__(self, access_token, user_id, version='5.131'):\n",
    "       self.token = access_token\n",
    "       self.id = user_id\n",
    "       self.version = version\n",
    "       self.params = {'access_token': self.token, 'v': self.version}\n",
    "\n",
    "   def users_info(self):\n",
    "       url = 'https://api.vk.com/method/users.get'\n",
    "       params = {'user_ids': self.id}\n",
    "       response = requests.get(url, params={**self.params, **params})\n",
    "       return response.json()\n",
    "\n",
    "\n",
    "\n",
    "access_token = '...'\n",
    "user_id = '...'\n",
    "vk = VK(access_token, user_id)\n",
    "print(vk.users_info())"
   ]
  }
 ],
 "metadata": {
  "kernelspec": {
   "display_name": "Python 3",
   "language": "python",
   "name": "python3"
  },
  "language_info": {
   "codemirror_mode": {
    "name": "ipython",
    "version": 3
   },
   "file_extension": ".py",
   "mimetype": "text/x-python",
   "name": "python",
   "nbconvert_exporter": "python",
   "pygments_lexer": "ipython3",
   "version": "3.7.3"
  }
 },
 "nbformat": 4,
 "nbformat_minor": 2
}
