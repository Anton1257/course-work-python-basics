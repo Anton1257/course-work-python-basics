{
 "cells": [
  {
   "cell_type": "markdown",
   "metadata": {},
   "source": [
    "Курсовая работа - основы языка программирования Python"
   ]
  },
  {
   "cell_type": "code",
   "execution_count": 1,
   "metadata": {},
   "outputs": [],
   "source": [
    "import requests\n",
    "import time\n",
    "import os\n",
    "from progress.bar import IncrementalBar\n",
    "import shutil\n",
    "import json"
   ]
  },
  {
   "cell_type": "code",
   "execution_count": 2,
   "metadata": {},
   "outputs": [],
   "source": [
    "class VK:\n",
    "    def __init__(self, access_token, user_id, version='5.131'):\n",
    "        self.token = access_token\n",
    "        self.id = user_id\n",
    "        self.version = version\n",
    "        self.params = {'access_token': self.token, 'v': self.version}\n",
    "        self.base_url = 'https://api.vk.com/'\n",
    "\n",
    "    def users_info(self, user_ids):\n",
    "        \"\"\"\n",
    "        Метод получает базовую информацию о пользователе\n",
    "        \"\"\"\n",
    "        method_name = 'users.get'\n",
    "        params = {\n",
    "            'user_ids': user_ids\n",
    "        }\n",
    "        return requests.get(f'{self.base_url}method/{method_name}', params={**self.params, **params})\n",
    "\n",
    "    def photos_get(self, owner_id):\n",
    "        method_name = 'photos.get'\n",
    "        params = {\n",
    "            'owner_id': owner_id,\n",
    "            'album_id': 'wall',\n",
    "            'count':    1000,\n",
    "            'extended': 1\n",
    "        }\n",
    "        return requests.get(f'{self.base_url}method/{method_name}', params={**self.params, **params})"
   ]
  },
  {
   "cell_type": "code",
   "execution_count": 3,
   "metadata": {},
   "outputs": [],
   "source": [
    "class YaUploader:\n",
    "    def __init__(self, token: str):\n",
    "        self.token = token\n",
    "\n",
    "    def upload_a_file_using_request(self, file_path, file_path_yadisk, replace=False):\n",
    "        \"\"\"\n",
    "        загрузка файла на яндекс диск с помощью библиотеки request\n",
    "        in:\n",
    "        file_path - путь к файлу который нужно загрузить\n",
    "        file_path_yadisk - путь к файлу на яндекс диске\n",
    "        replace - заменить файл или нет\n",
    "        \"\"\"\n",
    "        base_url = 'https://cloud-api.yandex.net/v1/disk/resources'\n",
    "        headers = {'Content-Type':   'application/json',\n",
    "                   'Accept':         'application/json',\n",
    "                   'Authorization': f'OAuth {self.token}'}\n",
    "\n",
    "        response = requests.get(f'{base_url}/upload?path={file_path_yadisk}&overwrite={replace}', headers=headers).json()\n",
    "        with open(file_path, 'rb') as f:\n",
    "            try:\n",
    "                requests.put(response['href'], files={'file': f})\n",
    "            except KeyError:\n",
    "                print(response)\n",
    "\n",
    "    def create_directory(self, path: str):\n",
    "        base_url = 'https://cloud-api.yandex.net/v1/disk/resources'\n",
    "        headers = {'Content-Type':   'application/json',\n",
    "                   'Accept':         'application/json',\n",
    "                   'Authorization': f'OAuth {self.token}'}\n",
    "        requests.put(f'{base_url}?path={path}', headers=headers)\n",
    "\n",
    "    def the_directory_exists(self, path: str) -> bool:\n",
    "        base_url = 'https://cloud-api.yandex.net/v1/disk/resources'\n",
    "        headers = {'Content-Type': 'application/json',\n",
    "                   'Accept': 'application/json',\n",
    "                   'Authorization': f'OAuth {self.token}'}\n",
    "        response = requests.get(f'{base_url}?path={path}', headers=headers)\n",
    "        return response.status_code != 404"
   ]
  },
  {
   "cell_type": "code",
   "execution_count": 4,
   "metadata": {},
   "outputs": [],
   "source": [
    "def save_data(file_name, file_data):\n",
    "    file = open(file_name, 'bw')\n",
    "    for chunk in file_data.iter_content(4096):\n",
    "        file.write(chunk)\n",
    "    file.close()"
   ]
  },
  {
   "cell_type": "code",
   "execution_count": 5,
   "metadata": {},
   "outputs": [],
   "source": [
    "def get_objects():\n",
    "    \"\"\"\n",
    "    метод загружает токены, получает id пользователя vk и возвращает нужные объекты\n",
    "    \"\"\"\n",
    "    # получение токенов из файла requiremеnts.txt\n",
    "    with open('requiremеnts.txt', 'r') as tokens: YANDEX_TOKEN, VK_TOKEN = tokens.read().split('\\n')[:2]\n",
    "    # создание объектов vk и uploader и получение id пользователя vk\n",
    "    uploader = YaUploader(YANDEX_TOKEN)\n",
    "    vk = VK(VK_TOKEN, input('id пользователя vk->'))\n",
    "    # получение базовой информации о пользователе\n",
    "    basic_user_information = vk.users_info(vk.id).json()['response'][0]\n",
    "    vk.id = basic_user_information['first_name'] + '_' +             basic_user_information['last_name'] + '[id' +             str(basic_user_information['id']) + ']'\n",
    "    return uploader, vk"
   ]
  },
  {
   "cell_type": "code",
   "execution_count": 6,
   "metadata": {},
   "outputs": [],
   "source": [
    "def getting_lists_of_information_by_files(photos_info):\n",
    "    file_name_and_url = {}\n",
    "    information_about_saved_photos = []\n",
    "    for count, photo in enumerate(photos_info, start=1):\n",
    "        likes_count = str(photo['likes']['count'])\n",
    "        height = str(photo['sizes'][-1]['height'])\n",
    "        width = str(photo['sizes'][-1]['width'])\n",
    "        photo_info = {\n",
    "            'file_name': likes_count + '.jpg',\n",
    "            'size': height + 'x' + width\n",
    "        }\n",
    "        if likes_count not in file_name_and_url:\n",
    "            file_name_and_url[likes_count] = photo['sizes'][-1]['url']\n",
    "        else:\n",
    "            file_name_and_url[likes_count + '_' + str(photo['date'])] = photo['sizes'][-1]['url']\n",
    "            photo_info['file_name'] = likes_count + '_' + str(photo['date']) + '.jpg'\n",
    "        information_about_saved_photos.append(photo_info)\n",
    "    photos_info.clear()\n",
    "    return information_about_saved_photos, file_name_and_url"
   ]
  },
  {
   "cell_type": "code",
   "execution_count": 7,
   "metadata": {},
   "outputs": [],
   "source": [
    "def upload_files_to_yadisk(file_name_and_url, vk, uploader):\n",
    "    l = len(file_name_and_url.items())\n",
    "    printProgressBar(0, l, prefix = 'Progress:', suffix = 'Complete', length = 50)\n",
    "    for count, item in enumerate(file_name_and_url.items(), start=1):\n",
    "        file_name, url = item\n",
    "        file_path = vk.id + '/' + file_name + '.jpg'\n",
    "        save_data(file_path, requests.get(url))\n",
    "        you_need_to_create_a_directory = not uploader.the_directory_exists(vk.id)\n",
    "        if you_need_to_create_a_directory: uploader.create_directory(vk.id)\n",
    "        # загружаем файл на яндекс диск\n",
    "        uploader.upload_a_file_using_request(file_path, file_path, replace=True)\n",
    "        #bar.next()\n",
    "        time.sleep(0.1)\n",
    "        os.remove(file_path)\n",
    "        printProgressBar(count - 1 + 1, l, prefix = 'Progress:', suffix = 'Complete', length = 50)"
   ]
  },
  {
   "cell_type": "code",
   "execution_count": 8,
   "metadata": {},
   "outputs": [],
   "source": [
    "def printProgressBar (iteration, total, prefix = '', suffix = '', decimals = 1, length = 100, fill = '█', printEnd = \"\\r\"):\n",
    "    \"\"\"\n",
    "    Call in a loop to create terminal progress bar\n",
    "    @params:\n",
    "        iteration   - Required  : current iteration (Int)\n",
    "        total       - Required  : total iterations (Int)\n",
    "        prefix      - Optional  : prefix string (Str)\n",
    "        suffix      - Optional  : suffix string (Str)\n",
    "        decimals    - Optional  : positive number of decimals in percent complete (Int)\n",
    "        length      - Optional  : character length of bar (Int)\n",
    "        fill        - Optional  : bar fill character (Str)\n",
    "        printEnd    - Optional  : end character (e.g. \"\\r\", \"\\r\\n\") (Str)\n",
    "    \"\"\"\n",
    "    percent = (\"{0:.\" + str(decimals) + \"f}\").format(100 * (iteration / float(total)))\n",
    "    filledLength = int(length * iteration // total)\n",
    "    bar = fill * filledLength + '-' * (length - filledLength)\n",
    "    print(f'\\r{prefix} |{bar}| {percent}% {suffix}', end = printEnd)\n",
    "    # Print New Line on Complete\n",
    "    if iteration == total: \n",
    "        print()"
   ]
  },
  {
   "cell_type": "code",
   "execution_count": 9,
   "metadata": {},
   "outputs": [
    {
     "name": "stdout",
     "output_type": "stream",
     "text": [
      "id пользователя vk->1\n",
      "Progress: |██████████████████████████████████████████████████| 100.0% Complete\n"
     ]
    }
   ],
   "source": [
    "def main(photos_count=5):\n",
    "    # получаем объекты vk и uploader\n",
    "    uploader, vk = get_objects()\n",
    "    # проверка существования директории\n",
    "    you_need_to_create_a_directory = not os.path.exists(vk.id)\n",
    "    if you_need_to_create_a_directory: os.mkdir(vk.id)\n",
    "    # получение фотографий пользователя vk(по умолчанию 5)\n",
    "    photos_info = vk.photos_get(vk.id.split('[')[1][2:-1]).json()['response']['items'][:photos_count]\n",
    "    # получение списка для записи в json файл и списка с именами фото и url\n",
    "    information_about_saved_photos, file_name_and_url = getting_lists_of_information_by_files(photos_info)\n",
    "    # создание прогресс бара\n",
    "    #bar = IncrementalBar('Countdown', max=len(file_name_and_url.items()))\n",
    "    # загрузка файлов на яндекс диск\n",
    "    upload_files_to_yadisk(file_name_and_url, vk, uploader)\n",
    "    #bar.finish()\n",
    "    # запись в json файл, загрузка его на яндекс диск и удаление с локального устройства\n",
    "    with open(vk.id + '/information_about_saved_photos.json', 'w') as json_file:\n",
    "        json.dump(information_about_saved_photos, json_file)\n",
    "    uploader.upload_a_file_using_request(vk.id + '/information_about_saved_photos.json',\n",
    "                                         vk.id + '/information_about_saved_photos.json', replace=True)\n",
    "    shutil.rmtree(vk.id)\n",
    "\n",
    "\n",
    "if __name__ == '__main__':\n",
    "    main(10)"
   ]
  }
 ],
 "metadata": {
  "kernelspec": {
   "display_name": "Python 3",
   "language": "python",
   "name": "python3"
  },
  "language_info": {
   "codemirror_mode": {
    "name": "ipython",
    "version": 3
   },
   "file_extension": ".py",
   "mimetype": "text/x-python",
   "name": "python",
   "nbconvert_exporter": "python",
   "pygments_lexer": "ipython3",
   "version": "3.7.3"
  }
 },
 "nbformat": 4,
 "nbformat_minor": 2
}
