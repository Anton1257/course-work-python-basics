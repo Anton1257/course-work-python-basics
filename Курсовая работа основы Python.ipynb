{
 "cells": [
  {
   "cell_type": "markdown",
   "metadata": {},
   "source": [
    "Курсовая работа - основы языка программирования Python"
   ]
  },
  {
   "cell_type": "code",
   "execution_count": null,
   "metadata": {},
   "outputs": [],
   "source": [
    "import requests\n",
    "import time\n",
    "import pandas as pd\n",
    "\n",
    "class VK:\n",
    "\n",
    "    def __init__(self, access_token, user_id, version='5.131'):\n",
    "        self.token = access_token\n",
    "        self.id = user_id\n",
    "        self.version = version\n",
    "        self.params = {'access_token': self.token, 'v': self.version}\n",
    "\n",
    "    def users_info(self):\n",
    "        \"\"\"\n",
    "        Метод получает базовую информацию о пользователе\n",
    "        \"\"\"\n",
    "        url = 'https://api.vk.com/method/users.get'\n",
    "        response = requests.get(url, params=self.params)\n",
    "        return response\n",
    "   \n",
    "        \n",
    "\n",
    "access_token = '...'\n",
    "user_id = '...'\n",
    "vk = VK(access_token, user_id)\n",
    "# Получить базовую информацию о пользователе\n",
    "basic_user_information = pd.DataFrame(vk.users_info().json()['response'])\n",
    "basic_user_information"
   ]
  }
 ],
 "metadata": {
  "kernelspec": {
   "display_name": "Python 3",
   "language": "python",
   "name": "python3"
  },
  "language_info": {
   "codemirror_mode": {
    "name": "ipython",
    "version": 3
   },
   "file_extension": ".py",
   "mimetype": "text/x-python",
   "name": "python",
   "nbconvert_exporter": "python",
   "pygments_lexer": "ipython3",
   "version": "3.7.3"
  }
 },
 "nbformat": 4,
 "nbformat_minor": 2
}
