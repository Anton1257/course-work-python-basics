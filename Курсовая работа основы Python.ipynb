{
 "cells": [
  {
   "cell_type": "markdown",
   "metadata": {},
   "source": [
    "Курсовая работа - основы языка программирования Python"
   ]
  },
  {
   "cell_type": "code",
   "execution_count": 2,
   "metadata": {},
   "outputs": [
    {
     "name": "stdout",
     "output_type": "stream",
     "text": [
      "Введите id пользователя vk -> 1\n",
      "Progress: |██████████████████████████████████████████████████| 100.0% Complete\n"
     ]
    }
   ],
   "source": [
    "import os\n",
    "import shutil\n",
    "import json\n",
    "from yauploader import YaUploader\n",
    "from vk import VK\n",
    "import configparser\n",
    "from pathlib import Path\n",
    "\n",
    "\n",
    "def main(photos_count=5):\n",
    "    config = configparser.ConfigParser()\n",
    "    config.read(f'{str(Path.home())}/settings.ini')\n",
    "    # создание объектов vk и uploader\n",
    "    vk = VK(config['VK'])\n",
    "    uploader = YaUploader(config['YANDEX'])\n",
    "    # проверка существования директории\n",
    "    you_need_to_create_a_directory = not os.path.exists(vk.id)\n",
    "    if you_need_to_create_a_directory:\n",
    "        os.mkdir(vk.id)\n",
    "    # получение фотографий пользователя vk(по умолчанию 5)\n",
    "    photos_info = vk.photos_get(vk.id.split('[')[1][2:-1]).json()['response']['items'][:photos_count]\n",
    "    # получение списка для записи в json файл и списка с именами фото и url\n",
    "    information_about_saved_photos, file_name_and_url = vk.getting_lists_of_information_by_files(photos_info)\n",
    "    # загрузка файлов на яндекс диск\n",
    "    uploader.upload_files_to_disk(file_name_and_url, vk.id)\n",
    "    # запись в json файл, загрузка его на яндекс диск и удаление с локального устройства\n",
    "    with open(vk.id + '/information_about_saved_photos.json', 'w') as json_file:\n",
    "        json.dump(information_about_saved_photos, json_file)\n",
    "    uploader.upload_a_file_using_request(vk.id + '/information_about_saved_photos.json',\n",
    "                                         vk.id + '/information_about_saved_photos.json')\n",
    "    shutil.rmtree(vk.id)\n",
    "\n",
    "\n",
    "if __name__ == '__main__':\n",
    "    main(10)"
   ]
  }
 ],
 "metadata": {
  "kernelspec": {
   "display_name": "Python 3",
   "language": "python",
   "name": "python3"
  },
  "language_info": {
   "codemirror_mode": {
    "name": "ipython",
    "version": 3
   },
   "file_extension": ".py",
   "mimetype": "text/x-python",
   "name": "python",
   "nbconvert_exporter": "python",
   "pygments_lexer": "ipython3",
   "version": "3.7.3"
  }
 },
 "nbformat": 4,
 "nbformat_minor": 2
}
