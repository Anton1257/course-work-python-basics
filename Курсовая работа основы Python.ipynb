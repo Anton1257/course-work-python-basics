{
 "cells": [
  {
   "cell_type": "markdown",
   "metadata": {},
   "source": [
    "Курсовая работа - основы языка программирования Python"
   ]
  },
  {
   "cell_type": "code",
   "execution_count": 11,
   "metadata": {},
   "outputs": [
    {
     "ename": "TypeError",
     "evalue": "photos_get() takes 0 positional arguments but 1 was given",
     "output_type": "error",
     "traceback": [
      "\u001b[0;31m---------------------------------------------------------------------------\u001b[0m",
      "\u001b[0;31mTypeError\u001b[0m                                 Traceback (most recent call last)",
      "\u001b[0;32m<ipython-input-11-d4cbc553532c>\u001b[0m in \u001b[0;36m<module>\u001b[0;34m\u001b[0m\n\u001b[1;32m     37\u001b[0m \u001b[0mbasic_user_information\u001b[0m \u001b[0;34m=\u001b[0m \u001b[0mpd\u001b[0m\u001b[0;34m.\u001b[0m\u001b[0mDataFrame\u001b[0m\u001b[0;34m(\u001b[0m\u001b[0mvk\u001b[0m\u001b[0;34m.\u001b[0m\u001b[0musers_info\u001b[0m\u001b[0;34m(\u001b[0m\u001b[0;34m)\u001b[0m\u001b[0;34m.\u001b[0m\u001b[0mjson\u001b[0m\u001b[0;34m(\u001b[0m\u001b[0;34m)\u001b[0m\u001b[0;34m[\u001b[0m\u001b[0;34m'response'\u001b[0m\u001b[0;34m]\u001b[0m\u001b[0;34m)\u001b[0m\u001b[0;34m\u001b[0m\u001b[0;34m\u001b[0m\u001b[0m\n\u001b[1;32m     38\u001b[0m \u001b[0mbasic_user_information\u001b[0m\u001b[0;34m\u001b[0m\u001b[0;34m\u001b[0m\u001b[0m\n\u001b[0;32m---> 39\u001b[0;31m \u001b[0mvk\u001b[0m\u001b[0;34m.\u001b[0m\u001b[0mphotos_get\u001b[0m\u001b[0;34m(\u001b[0m\u001b[0;34m)\u001b[0m\u001b[0;34m.\u001b[0m\u001b[0mjson\u001b[0m\u001b[0;34m(\u001b[0m\u001b[0;34m)\u001b[0m\u001b[0;34m\u001b[0m\u001b[0;34m\u001b[0m\u001b[0m\n\u001b[0m",
      "\u001b[0;31mTypeError\u001b[0m: photos_get() takes 0 positional arguments but 1 was given"
     ]
    }
   ],
   "source": [
    "import requests\n",
    "import time\n",
    "import pandas as pd\n",
    "\n",
    "class VK:\n",
    "\n",
    "    def __init__(self, access_token, user_id, version='5.131'):\n",
    "        self.token = access_token\n",
    "        self.id = user_id\n",
    "        self.version = version\n",
    "        self.params = {'access_token': self.token, 'v': self.version}\n",
    "        self.base_url = 'https://api.vk.com/method/'\n",
    "\n",
    "    def users_info(self):\n",
    "        \"\"\"\n",
    "        Метод получает базовую информацию о пользователе\n",
    "        \"\"\"\n",
    "        url = self.base_url + 'users.get'\n",
    "        response = requests.get(url, params=self.params)\n",
    "        return response\n",
    "    \n",
    "    def photos_get():\n",
    "        url = self.base_url + 'photos.get'\n",
    "        photos_params = {\n",
    "            'owner_id': -1,\n",
    "            'album_id': 'wall',\n",
    "            'count'   : 2\n",
    "        }\n",
    "        response = requests.get(url, params={**self.params, **photos_params})\n",
    "        return response\n",
    "        \n",
    "\n",
    "access_token = '...'\n",
    "user_id = '...'\n",
    "vk = VK(access_token, user_id)\n",
    "# Получить базовую информацию о пользователе\n",
    "basic_user_information = pd.DataFrame(vk.users_info().json()['response'])\n",
    "basic_user_information\n",
    "vk.photos_get().json()"
   ]
  },
  {
   "cell_type": "code",
   "execution_count": null,
   "metadata": {},
   "outputs": [],
   "source": []
  }
 ],
 "metadata": {
  "kernelspec": {
   "display_name": "Python 3",
   "language": "python",
   "name": "python3"
  },
  "language_info": {
   "codemirror_mode": {
    "name": "ipython",
    "version": 3
   },
   "file_extension": ".py",
   "mimetype": "text/x-python",
   "name": "python",
   "nbconvert_exporter": "python",
   "pygments_lexer": "ipython3",
   "version": "3.7.3"
  }
 },
 "nbformat": 4,
 "nbformat_minor": 2
}
